{
 "cells": [
  {
   "cell_type": "code",
   "execution_count": 1,
   "metadata": {},
   "outputs": [],
   "source": [
    "import numpy as np\n",
    "import pandas as pd\n",
    "import matplotlib.pyplot as plt"
   ]
  },
  {
   "cell_type": "markdown",
   "metadata": {},
   "source": [
    "## Importing the dataset"
   ]
  },
  {
   "cell_type": "code",
   "execution_count": 2,
   "metadata": {},
   "outputs": [
    {
     "data": {
      "text/html": [
       "<div>\n",
       "<style scoped>\n",
       "    .dataframe tbody tr th:only-of-type {\n",
       "        vertical-align: middle;\n",
       "    }\n",
       "\n",
       "    .dataframe tbody tr th {\n",
       "        vertical-align: top;\n",
       "    }\n",
       "\n",
       "    .dataframe thead th {\n",
       "        text-align: right;\n",
       "    }\n",
       "</style>\n",
       "<table border=\"1\" class=\"dataframe\">\n",
       "  <thead>\n",
       "    <tr style=\"text-align: right;\">\n",
       "      <th></th>\n",
       "      <th>Age</th>\n",
       "      <th>Year_of_operation</th>\n",
       "      <th>Number_of_positive_cases</th>\n",
       "      <th>Survival_status</th>\n",
       "    </tr>\n",
       "  </thead>\n",
       "  <tbody>\n",
       "    <tr>\n",
       "      <th>0</th>\n",
       "      <td>30</td>\n",
       "      <td>64</td>\n",
       "      <td>1</td>\n",
       "      <td>1</td>\n",
       "    </tr>\n",
       "    <tr>\n",
       "      <th>1</th>\n",
       "      <td>30</td>\n",
       "      <td>62</td>\n",
       "      <td>3</td>\n",
       "      <td>1</td>\n",
       "    </tr>\n",
       "    <tr>\n",
       "      <th>2</th>\n",
       "      <td>30</td>\n",
       "      <td>65</td>\n",
       "      <td>0</td>\n",
       "      <td>1</td>\n",
       "    </tr>\n",
       "    <tr>\n",
       "      <th>3</th>\n",
       "      <td>31</td>\n",
       "      <td>59</td>\n",
       "      <td>2</td>\n",
       "      <td>1</td>\n",
       "    </tr>\n",
       "    <tr>\n",
       "      <th>4</th>\n",
       "      <td>31</td>\n",
       "      <td>65</td>\n",
       "      <td>4</td>\n",
       "      <td>1</td>\n",
       "    </tr>\n",
       "  </tbody>\n",
       "</table>\n",
       "</div>"
      ],
      "text/plain": [
       "   Age  Year_of_operation  Number_of_positive_cases  Survival_status\n",
       "0   30                 64                         1                1\n",
       "1   30                 62                         3                1\n",
       "2   30                 65                         0                1\n",
       "3   31                 59                         2                1\n",
       "4   31                 65                         4                1"
      ]
     },
     "execution_count": 2,
     "metadata": {},
     "output_type": "execute_result"
    }
   ],
   "source": [
    "dataset = pd.read_csv(\"haberman.data\", names=[\"Age\",\"Year_of_operation\", \"Number_of_positive_cases\", \"Survival_status\"])\n",
    "dataset.head()"
   ]
  },
  {
   "cell_type": "code",
   "execution_count": 3,
   "metadata": {},
   "outputs": [],
   "source": [
    "X = dataset[[\"Age\",\"Year_of_operation\", \"Number_of_positive_cases\"]].copy()\n",
    "y = dataset[\"Survival_status\"]"
   ]
  },
  {
   "cell_type": "code",
   "execution_count": 4,
   "metadata": {},
   "outputs": [],
   "source": [
    "from sklearn.model_selection import train_test_split\n",
    "X_train, X_test, y_train, y_test = train_test_split(X, y, test_size = 0.2, random_state = 42)"
   ]
  },
  {
   "cell_type": "markdown",
   "metadata": {},
   "source": [
    "## Data preprocessing"
   ]
  },
  {
   "cell_type": "code",
   "execution_count": 5,
   "metadata": {},
   "outputs": [],
   "source": [
    "from sklearn.preprocessing import StandardScaler\n",
    "sc = StandardScaler()\n",
    "X_train.loc[:,:] = sc.fit_transform(X_train)\n",
    "X_test.loc[:,:] = sc.transform(X_test)"
   ]
  },
  {
   "cell_type": "code",
   "execution_count": 6,
   "metadata": {},
   "outputs": [
    {
     "data": {
      "text/plain": [
       "(          Age  Year_of_operation  Number_of_positive_cases\n",
       " 71  -0.887116           0.664086                 -0.554566\n",
       " 48  -1.073396          -1.201982                 -0.554566\n",
       " 266  1.161955           0.353074                 -0.554566\n",
       " 44  -1.073396           0.353074                 -0.554566\n",
       " 156  0.044279          -1.512993                 -0.005624\n",
       " 142 -0.048860           1.908131                 -0.142860\n",
       " 151 -0.048860          -0.268948                 -0.554566\n",
       " 1   -2.097931          -0.268948                 -0.142860\n",
       " 174  0.137419           1.286108                  5.758265\n",
       " 153 -0.048860           0.353074                 -0.554566,\n",
       "           Age  Year_of_operation  Number_of_positive_cases\n",
       " 237  0.789396          -1.201982                 -0.554566\n",
       " 251  0.975675          -0.579960                  0.680553\n",
       " 203  0.416838          -0.268948                 -0.554566\n",
       " 33  -1.352814           1.286108                  0.131611\n",
       " 57  -0.980256          -1.201982                 -0.280095\n",
       " 109 -0.421418           1.286108                  0.406082\n",
       " 9   -1.725373          -1.512993                  3.562497\n",
       " 3   -2.004792          -1.201982                 -0.280095\n",
       " 77  -0.793977           0.042063                 -0.417331\n",
       " 7   -1.725373          -1.201982                 -0.554566)"
      ]
     },
     "execution_count": 6,
     "metadata": {},
     "output_type": "execute_result"
    }
   ],
   "source": [
    "X_train.sample(10), X_test.sample(10)"
   ]
  },
  {
   "cell_type": "markdown",
   "metadata": {},
   "source": [
    "## KNN"
   ]
  },
  {
   "cell_type": "markdown",
   "metadata": {},
   "source": [
    "### Run k nearest neighbors for k in [1,40]"
   ]
  },
  {
   "cell_type": "code",
   "execution_count": 7,
   "metadata": {},
   "outputs": [],
   "source": [
    "from sklearn.neighbors import KNeighborsClassifier\n",
    "from sklearn.metrics import accuracy_score\n",
    "\n",
    "k_list = range(1,41)\n",
    "train_accuracy = []\n",
    "test_accuracy = []\n",
    "\n",
    "for k in k_list:\n",
    "    knn_classifier = KNeighborsClassifier(n_neighbors=k, metric='euclidean')\n",
    "    knn_classifier.fit(X_train, y_train)\n",
    "    y_pred_train = knn_classifier.predict(X_train)\n",
    "    y_pred_test = knn_classifier.predict(X_test)\n",
    "    train_accuracy.append(accuracy_score(y_pred_train, y_train))\n",
    "    test_accuracy.append(accuracy_score(y_pred_test, y_test))\n"
   ]
  },
  {
   "cell_type": "code",
   "execution_count": 63,
   "metadata": {},
   "outputs": [
    {
     "data": {
      "image/png": "[encoded data removed]",
      "text/plain": [
       "<Figure size 432x288 with 1 Axes>"
      ]
     },
     "metadata": {
      "needs_background": "light"
     },
     "output_type": "display_data"
    }
   ],
   "source": [
    "fig, ax1 = plt.subplots(1)\n",
    "fig.suptitle(\"Train/Test accuracy (KNN)\")\n",
    "ax1.plot(k_list, train_accuracy, label=\"Train\")\n",
    "ax1.plot(k_list, test_accuracy, c='r', label=\"Test\")\n",
    "ax1.set(xlabel=\"k\", ylabel=\"accuracy\")\n",
    "ax1.legend()\n",
    "plt.show() #it is not needed for jupyter file"
   ]
  },
  {
   "cell_type": "markdown",
   "metadata": {},
   "source": [
    "### Visulization for analysis and comparison"
   ]
  },
  {
   "cell_type": "code",
   "execution_count": 9,
   "metadata": {},
   "outputs": [],
   "source": [
    "spec_ks = [1, 5, 20, 40]\n",
    "pred_ys = {}\n",
    "for k in spec_ks:\n",
    "    knn_classifier = KNeighborsClassifier(n_neighbors = k, metric=\"euclidean\")\n",
    "    knn_classifier.fit(X_train, y_train)\n",
    "    y_pred = knn_classifier.predict(X_test)\n",
    "    accuracy_score(y_pred, y_test)\n",
    "    pred_ys[k] = y_pred"
   ]
  },
  {
   "cell_type": "code",
   "execution_count": 55,
   "metadata": {},
   "outputs": [],
   "source": [
    "#class 1 has color #0080ff(blue) and class 2 has color #ffbf00(orange).\n",
    "def get_colors(pred_list):\n",
    "    colors = []\n",
    "    for y in pred_list:\n",
    "        if y == 1:\n",
    "            colors.append('#0080ff')\n",
    "        else:\n",
    "            colors.append('#ffbf00')\n",
    "    return colors              "
   ]
  },
  {
   "cell_type": "code",
   "execution_count": 56,
   "metadata": {},
   "outputs": [
    {
     "data": {
      "image/png": "[encoded data removed]",
      "text/plain": [
       "<Figure size 576x576 with 4 Axes>"
      ]
     },
     "metadata": {
      "needs_background": "light"
     },
     "output_type": "display_data"
    }
   ],
   "source": [
    "axs = plt.figure(figsize=(8,8)).subplots(2,2)\n",
    "axs_list = [axs[i, j] for i in range(2) for j in range(2)]\n",
    "for i in range(len(axs_list)):\n",
    "    axs_list[i].scatter(X_test['Age'], X_test['Number_of_positive_cases'], c = get_colors(pred_ys[spec_ks[i]]))\n",
    "    axs_list[i].set_title(\"k={0}\".format(spec_ks[i]))\n",
    "    axs_list[i].set(xlabel = \"Age\", ylabel = \"Number of Positive Cases\")\n",
    "    axs_list[i].label_outer()\n",
    "plt.show() #it is not needed for jupyter file\n"
   ]
  },
  {
   "cell_type": "code",
   "execution_count": 57,
   "metadata": {},
   "outputs": [
    {
     "data": {
      "text/plain": [
       "Survival_status\n",
       "1    181\n",
       "2     63\n",
       "Name: Survival_status, dtype: int64"
      ]
     },
     "execution_count": 57,
     "metadata": {},
     "output_type": "execute_result"
    }
   ],
   "source": [
    "y_train.groupby(y_train).count()"
   ]
  },
  {
   "cell_type": "markdown",
   "metadata": {},
   "source": [
    "### Tuning k using 5-Cross validation "
   ]
  },
  {
   "cell_type": "code",
   "execution_count": 37,
   "metadata": {},
   "outputs": [
    {
     "data": {
      "text/plain": [
       "GridSearchCV(estimator=KNeighborsClassifier(metric='euclidean', n_neighbors=40),\n",
       "             param_grid={'n_neighbors': range(1, 41)}, scoring='accuracy')"
      ]
     },
     "execution_count": 37,
     "metadata": {},
     "output_type": "execute_result"
    }
   ],
   "source": [
    "from sklearn.model_selection import GridSearchCV\n",
    "\n",
    "params = {'n_neighbors': range(1,41)}\n",
    "scroing = \"accuracy\"\n",
    "\n",
    "knn_classifier_grid = KNeighborsClassifier(metric=\"euclidean\")\n",
    "knn_gridsearch = GridSearchCV(knn_classifier, param_grid = params, scoring=scroing)\n",
    "knn_gridsearch.fit(X_train, y_train)\n"
   ]
  },
  {
   "cell_type": "code",
   "execution_count": 41,
   "metadata": {},
   "outputs": [
    {
     "name": "stdout",
     "output_type": "stream",
     "text": [
      "The best k is 11\n",
      "accuracy score: 0.7744047619047618\n"
     ]
    }
   ],
   "source": [
    "print(\"The best k is\", knn_gridsearch.best_estimator_.get_params()['n_neighbors'])\n",
    "print(\"accuracy score:\", knn_gridsearch.best_score_)"
   ]
  },
  {
   "cell_type": "code",
   "execution_count": 58,
   "metadata": {},
   "outputs": [
    {
     "name": "stdout",
     "output_type": "stream",
     "text": [
      "[[39  5]\n",
      " [14  4]]\n",
      "              precision    recall  f1-score   support\n",
      "\n",
      "           1       0.74      0.89      0.80        44\n",
      "           2       0.44      0.22      0.30        18\n",
      "\n",
      "    accuracy                           0.69        62\n",
      "   macro avg       0.59      0.55      0.55        62\n",
      "weighted avg       0.65      0.69      0.66        62\n",
      "\n"
     ]
    }
   ],
   "source": [
    "from sklearn.metrics import confusion_matrix, classification_report\n",
    "knn_classifier11 = knn_gridsearch.best_estimator_\n",
    "y_pred = knn_classifier11.predict(X_test)\n",
    "print(confusion_matrix(y_test, y_pred))\n",
    "print(classification_report(y_test, y_pred))"
   ]
  },
  {
   "cell_type": "code",
   "execution_count": 45,
   "metadata": {},
   "outputs": [
    {
     "name": "stdout",
     "output_type": "stream",
     "text": [
      "[[42  2]\n",
      " [14  4]]\n",
      "              precision    recall  f1-score   support\n",
      "\n",
      "           1       0.75      0.95      0.84        44\n",
      "           2       0.67      0.22      0.33        18\n",
      "\n",
      "    accuracy                           0.74        62\n",
      "   macro avg       0.71      0.59      0.59        62\n",
      "weighted avg       0.73      0.74      0.69        62\n",
      "\n"
     ]
    }
   ],
   "source": [
    "# the best k is 34 according to Train/Testbecause the difference between accuracies is minimal at this point.\n",
    "knn_classifier34 = KNeighborsClassifier(n_neighbors = 34, metric = \"euclidean\")\n",
    "knn_classifier34.fit(X_train, y_train)\n",
    "y_pred = knn_classifier34.predict(X_test)\n",
    "print(confusion_matrix(y_test, y_pred))\n",
    "print(classification_report(y_test, y_pred))"
   ]
  },
  {
   "cell_type": "code",
   "execution_count": 59,
   "metadata": {},
   "outputs": [
    {
     "name": "stdout",
     "output_type": "stream",
     "text": [
      "accuracy score of validation sets for Knn34: 0.7457482993197279\n"
     ]
    }
   ],
   "source": [
    "print(\"accuracy score of validation sets for Knn34:\", knn_gridsearch.cv_results_['mean_test_score'][33])"
   ]
  }
 ],
 "metadata": {
  "interpreter": {
   "hash": "f402d2e20bf60abab6c63f5caad3eaf757e18333d9c575c25b8a9d9a3e0bf318"
  },
  "kernelspec": {
   "display_name": "Python 3.7.7 64-bit",
   "language": "python",
   "name": "python3"
  },
  "language_info": {
   "codemirror_mode": {
    "name": "ipython",
    "version": 3
   },
   "file_extension": ".py",
   "mimetype": "text/x-python",
   "name": "python",
   "nbconvert_exporter": "python",
   "pygments_lexer": "ipython3",
   "version": "3.7.7"
  },
  "orig_nbformat": 4
 },
 "nbformat": 4,
 "nbformat_minor": 2
}
